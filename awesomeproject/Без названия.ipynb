{
 "cells": [
  {
   "cell_type": "code",
   "execution_count": 57,
   "id": "enabling-europe",
   "metadata": {},
   "outputs": [],
   "source": [
    "from sudentapp.models import Dish,Ingredient\n",
    "import os\n",
    "from django.db.models import Q\n",
    "os.environ[\"DJANGO_ALLOW_ASYNC_UNSAFE\"] = \"true\""
   ]
  },
  {
   "cell_type": "code",
   "execution_count": 7,
   "id": "separated-filling",
   "metadata": {},
   "outputs": [],
   "source": [
    "d = Dish.objects.get(id=1)\n"
   ]
  },
  {
   "cell_type": "code",
   "execution_count": 8,
   "id": "economic-hamilton",
   "metadata": {},
   "outputs": [
    {
     "data": {
      "text/plain": [
       "'фыва фыв а'"
      ]
     },
     "execution_count": 8,
     "metadata": {},
     "output_type": "execute_result"
    }
   ],
   "source": [
    "d.recipe\n"
   ]
  },
  {
   "cell_type": "code",
   "execution_count": 9,
   "id": "generic-figure",
   "metadata": {},
   "outputs": [],
   "source": [
    "d.recipe = 'новый рецепт'"
   ]
  },
  {
   "cell_type": "code",
   "execution_count": 11,
   "id": "political-leonard",
   "metadata": {},
   "outputs": [],
   "source": [
    "d.save()"
   ]
  },
  {
   "cell_type": "code",
   "execution_count": 14,
   "id": "alike-weather",
   "metadata": {},
   "outputs": [],
   "source": [
    "new_dis = Dish(name=\"блины\",cooking_time=10)\n",
    "new_dis.cooking_time=12\n"
   ]
  },
  {
   "cell_type": "code",
   "execution_count": 15,
   "id": "eligible-origin",
   "metadata": {},
   "outputs": [],
   "source": [
    "new_dis.save()"
   ]
  },
  {
   "cell_type": "code",
   "execution_count": 18,
   "id": "amended-jewelry",
   "metadata": {},
   "outputs": [
    {
     "data": {
      "text/plain": [
       "<QuerySet [<Dish: кампот>]>"
      ]
     },
     "execution_count": 18,
     "metadata": {},
     "output_type": "execute_result"
    }
   ],
   "source": [
    "Dish.objects.filter(id=2)"
   ]
  },
  {
   "cell_type": "code",
   "execution_count": 24,
   "id": "adjacent-hopkins",
   "metadata": {},
   "outputs": [
    {
     "ename": "ValueError",
     "evalue": "Cannot assign \"2\": \"Ingredient.dish\" must be a \"Dish\" instance.",
     "output_type": "error",
     "traceback": [
      "\u001b[0;31m---------------------------------------------------------------------------\u001b[0m",
      "\u001b[0;31mValueError\u001b[0m                                Traceback (most recent call last)",
      "\u001b[0;32m<ipython-input-24-76bca5d30e83>\u001b[0m in \u001b[0;36m<module>\u001b[0;34m\u001b[0m\n\u001b[0;32m----> 1\u001b[0;31m \u001b[0mingrediatn\u001b[0m \u001b[0;34m=\u001b[0m \u001b[0mIngredient\u001b[0m\u001b[0;34m(\u001b[0m\u001b[0mdish\u001b[0m\u001b[0;34m=\u001b[0m\u001b[0;36m2\u001b[0m\u001b[0;34m,\u001b[0m\u001b[0mquantity\u001b[0m\u001b[0;34m=\u001b[0m\u001b[0;36m1\u001b[0m\u001b[0;34m)\u001b[0m\u001b[0;34m\u001b[0m\u001b[0;34m\u001b[0m\u001b[0m\n\u001b[0m",
      "\u001b[0;32m~/.local/lib/python3.9/site-packages/django/db/models/base.py\u001b[0m in \u001b[0;36m__init__\u001b[0;34m(self, *args, **kwargs)\u001b[0m\n\u001b[1;32m    483\u001b[0m                 \u001b[0;31m# checked) by the RelatedObjectDescriptor.\u001b[0m\u001b[0;34m\u001b[0m\u001b[0;34m\u001b[0m\u001b[0;34m\u001b[0m\u001b[0m\n\u001b[1;32m    484\u001b[0m                 \u001b[0;32mif\u001b[0m \u001b[0mrel_obj\u001b[0m \u001b[0;32mis\u001b[0m \u001b[0;32mnot\u001b[0m \u001b[0m_DEFERRED\u001b[0m\u001b[0;34m:\u001b[0m\u001b[0;34m\u001b[0m\u001b[0;34m\u001b[0m\u001b[0m\n\u001b[0;32m--> 485\u001b[0;31m                     \u001b[0m_setattr\u001b[0m\u001b[0;34m(\u001b[0m\u001b[0mself\u001b[0m\u001b[0;34m,\u001b[0m \u001b[0mfield\u001b[0m\u001b[0;34m.\u001b[0m\u001b[0mname\u001b[0m\u001b[0;34m,\u001b[0m \u001b[0mrel_obj\u001b[0m\u001b[0;34m)\u001b[0m\u001b[0;34m\u001b[0m\u001b[0;34m\u001b[0m\u001b[0m\n\u001b[0m\u001b[1;32m    486\u001b[0m             \u001b[0;32melse\u001b[0m\u001b[0;34m:\u001b[0m\u001b[0;34m\u001b[0m\u001b[0;34m\u001b[0m\u001b[0m\n\u001b[1;32m    487\u001b[0m                 \u001b[0;32mif\u001b[0m \u001b[0mval\u001b[0m \u001b[0;32mis\u001b[0m \u001b[0;32mnot\u001b[0m \u001b[0m_DEFERRED\u001b[0m\u001b[0;34m:\u001b[0m\u001b[0;34m\u001b[0m\u001b[0;34m\u001b[0m\u001b[0m\n",
      "\u001b[0;32m~/.local/lib/python3.9/site-packages/django/db/models/fields/related_descriptors.py\u001b[0m in \u001b[0;36m__set__\u001b[0;34m(self, instance, value)\u001b[0m\n\u001b[1;32m    213\u001b[0m         \u001b[0;31m# An object must be an instance of the related class.\u001b[0m\u001b[0;34m\u001b[0m\u001b[0;34m\u001b[0m\u001b[0;34m\u001b[0m\u001b[0m\n\u001b[1;32m    214\u001b[0m         \u001b[0;32mif\u001b[0m \u001b[0mvalue\u001b[0m \u001b[0;32mis\u001b[0m \u001b[0;32mnot\u001b[0m \u001b[0;32mNone\u001b[0m \u001b[0;32mand\u001b[0m \u001b[0;32mnot\u001b[0m \u001b[0misinstance\u001b[0m\u001b[0;34m(\u001b[0m\u001b[0mvalue\u001b[0m\u001b[0;34m,\u001b[0m \u001b[0mself\u001b[0m\u001b[0;34m.\u001b[0m\u001b[0mfield\u001b[0m\u001b[0;34m.\u001b[0m\u001b[0mremote_field\u001b[0m\u001b[0;34m.\u001b[0m\u001b[0mmodel\u001b[0m\u001b[0;34m.\u001b[0m\u001b[0m_meta\u001b[0m\u001b[0;34m.\u001b[0m\u001b[0mconcrete_model\u001b[0m\u001b[0;34m)\u001b[0m\u001b[0;34m:\u001b[0m\u001b[0;34m\u001b[0m\u001b[0;34m\u001b[0m\u001b[0m\n\u001b[0;32m--> 215\u001b[0;31m             raise ValueError(\n\u001b[0m\u001b[1;32m    216\u001b[0m                 'Cannot assign \"%r\": \"%s.%s\" must be a \"%s\" instance.' % (\n\u001b[1;32m    217\u001b[0m                     \u001b[0mvalue\u001b[0m\u001b[0;34m,\u001b[0m\u001b[0;34m\u001b[0m\u001b[0;34m\u001b[0m\u001b[0m\n",
      "\u001b[0;31mValueError\u001b[0m: Cannot assign \"2\": \"Ingredient.dish\" must be a \"Dish\" instance."
     ]
    }
   ],
   "source": [
    "ingrediatn = Ingredient(dish=2,quantity=1)"
   ]
  },
  {
   "cell_type": "code",
   "execution_count": 27,
   "id": "sought-laptop",
   "metadata": {},
   "outputs": [
    {
     "data": {
      "text/plain": [
       "<QuerySet [<Dish: кампот>, <Dish: qweqw >, <Dish: блины>]>"
      ]
     },
     "execution_count": 27,
     "metadata": {},
     "output_type": "execute_result"
    }
   ],
   "source": [
    "Dish.objects.exclude(name=\"Борсч\")"
   ]
  },
  {
   "cell_type": "code",
   "execution_count": 28,
   "id": "august-grocery",
   "metadata": {},
   "outputs": [
    {
     "data": {
      "text/plain": [
       "<QuerySet [<Dish: Борсч>, <Dish: Борсч>]>"
      ]
     },
     "execution_count": 28,
     "metadata": {},
     "output_type": "execute_result"
    }
   ],
   "source": [
    "Dish.objects.filter(name=\"Борсч\")"
   ]
  },
  {
   "cell_type": "code",
   "execution_count": 31,
   "id": "random-nigeria",
   "metadata": {},
   "outputs": [],
   "source": []
  },
  {
   "cell_type": "code",
   "execution_count": 32,
   "id": "optical-chase",
   "metadata": {},
   "outputs": [],
   "source": [
    "q = Dish.objects.all()\n",
    "q_sup = q.filter(typ=\"S\")\n",
    "q_fast_sup = q_sup.filter(cooking_time__lte=10)"
   ]
  },
  {
   "cell_type": "code",
   "execution_count": 34,
   "id": "empirical-sympathy",
   "metadata": {},
   "outputs": [],
   "source": []
  },
  {
   "cell_type": "code",
   "execution_count": 45,
   "id": "residential-pathology",
   "metadata": {},
   "outputs": [
    {
     "name": "stdout",
     "output_type": "stream",
     "text": [
      "<QuerySet [<Dish: Борсч холодный>]>\n"
     ]
    }
   ],
   "source": [
    "print(q_fast_sup)"
   ]
  },
  {
   "cell_type": "code",
   "execution_count": 38,
   "id": "expanded-wallace",
   "metadata": {},
   "outputs": [],
   "source": [
    "q_fast_sup2 = Dish.objects.all().filter(typ=\"S\").filter(cooking_time__lte=10).exluder()\n"
   ]
  },
  {
   "cell_type": "code",
   "execution_count": 42,
   "id": "offensive-disease",
   "metadata": {},
   "outputs": [],
   "source": [
    "q_list = list(q_fast_sup2)"
   ]
  },
  {
   "cell_type": "code",
   "execution_count": 72,
   "id": "sorted-costs",
   "metadata": {},
   "outputs": [],
   "source": [
    "\n",
    "q = Dish.objects.all().filter(Q(ingredient__food__isnull=True,typ=\"S\")|Q(typ=\"S\"))\n"
   ]
  },
  {
   "cell_type": "code",
   "execution_count": 78,
   "id": "sunrise-radius",
   "metadata": {},
   "outputs": [
    {
     "name": "stdout",
     "output_type": "stream",
     "text": [
      "4 Борсч холодный\n",
      "4 Борсч холодный\n",
      "4 Борсч холодный\n",
      "1 Борсч\n",
      "1 Борсч\n",
      "1 Борсч\n",
      "1 Борсч\n",
      "3 Щи\n",
      "3 Щи\n"
     ]
    }
   ],
   "source": [
    "for x in q.order_by('cooking_time'):\n",
    "    print(x.id,x.name)"
   ]
  },
  {
   "cell_type": "code",
   "execution_count": 75,
   "id": "mysterious-consideration",
   "metadata": {},
   "outputs": [
    {
     "data": {
      "text/plain": [
       "9"
      ]
     },
     "execution_count": 75,
     "metadata": {},
     "output_type": "execute_result"
    }
   ],
   "source": [
    "q.count()"
   ]
  },
  {
   "cell_type": "code",
   "execution_count": null,
   "id": "decreased-tournament",
   "metadata": {},
   "outputs": [],
   "source": []
  }
 ],
 "metadata": {
  "kernelspec": {
   "display_name": "Django Shell-Plus",
   "language": "python",
   "name": "django_extensions"
  },
  "language_info": {
   "codemirror_mode": {
    "name": "ipython",
    "version": 3
   },
   "file_extension": ".py",
   "mimetype": "text/x-python",
   "name": "python",
   "nbconvert_exporter": "python",
   "pygments_lexer": "ipython3",
   "version": "3.9.2"
  }
 },
 "nbformat": 4,
 "nbformat_minor": 5
}
