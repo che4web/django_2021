{
 "cells": [
  {
   "cell_type": "code",
   "execution_count": 4,
   "id": "enabling-europe",
   "metadata": {},
   "outputs": [],
   "source": [
    "from sudentapp.models import Dish,Ingredient\n",
    "import os\n",
    "from django.db.models import Q\n",
    "os.environ[\"DJANGO_ALLOW_ASYNC_UNSAFE\"] = \"true\""
   ]
  },
  {
   "cell_type": "code",
   "execution_count": 5,
   "id": "separated-filling",
   "metadata": {},
   "outputs": [],
   "source": [
    "d = Dish.objects.get(id=1)\n"
   ]
  },
  {
   "cell_type": "code",
   "execution_count": 6,
   "id": "decreased-tournament",
   "metadata": {},
   "outputs": [],
   "source": [
    "queryset = Ingredient.objects.all()"
   ]
  },
  {
   "cell_type": "code",
   "execution_count": 7,
   "id": "hollow-indonesian",
   "metadata": {},
   "outputs": [],
   "source": [
    "queryset = queryset.annotate(\n",
    "            protein=F('food__protein')*F('quantity'),\n",
    "            fat=F('food__fat')*F('quantity'),\n",
    "            carbohydrate=F('food__carbohydrate')*F('quantity'),\n",
    "            energy=F('food__energy')*F('quantity'),\n",
    "        )\n"
   ]
  },
  {
   "cell_type": "code",
   "execution_count": 13,
   "id": "geological-looking",
   "metadata": {},
   "outputs": [
    {
     "data": {
      "text/plain": [
       "<QuerySet [{'dish': 2, 'protein__sum': 0.0, 'fat__sum': 0.0, 'carbohydrate__sum': 0.0}, {'dish': 1, 'protein__sum': 100.0, 'fat__sum': 200.0, 'carbohydrate__sum': 0.0}, {'dish': 3, 'protein__sum': 200.0, 'fat__sum': 200.0, 'carbohydrate__sum': 0.0}, {'dish': 4, 'protein__sum': 100.0, 'fat__sum': 200.0, 'carbohydrate__sum': 0.0}, {'dish': None, 'protein__sum': None, 'fat__sum': None, 'carbohydrate__sum': None}]>"
      ]
     },
     "execution_count": 13,
     "metadata": {},
     "output_type": "execute_result"
    }
   ],
   "source": [
    "queryset.order_by('dish').values('dish').annotate(\n",
    "    Sum('protein',filter=Q(fat__gt=0)),\n",
    "    Sum('fat'),\n",
    "    Sum('carbohydrate'),\n",
    ")"
   ]
  },
  {
   "cell_type": "code",
   "execution_count": null,
   "id": "essential-swing",
   "metadata": {},
   "outputs": [],
   "source": []
  }
 ],
 "metadata": {
  "kernelspec": {
   "display_name": "Django Shell-Plus",
   "language": "python",
   "name": "django_extensions"
  },
  "language_info": {
   "codemirror_mode": {
    "name": "ipython",
    "version": 3
   },
   "file_extension": ".py",
   "mimetype": "text/x-python",
   "name": "python",
   "nbconvert_exporter": "python",
   "pygments_lexer": "ipython3",
   "version": "3.9.2"
  }
 },
 "nbformat": 4,
 "nbformat_minor": 5
}
