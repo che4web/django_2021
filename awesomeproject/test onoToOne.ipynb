{
 "cells": [
  {
   "cell_type": "code",
   "execution_count": 5,
   "id": "continent-potter",
   "metadata": {},
   "outputs": [],
   "source": [
    "from storageapp.models import Perosne\n",
    "import os\n",
    "from django.db.models import Q\n",
    "os.environ[\"DJANGO_ALLOW_ASYNC_UNSAFE\"] = \"true\""
   ]
  },
  {
   "cell_type": "code",
   "execution_count": 6,
   "id": "organized-recall",
   "metadata": {},
   "outputs": [],
   "source": [
    "p1 = Perosne(name=\"p1\")"
   ]
  },
  {
   "cell_type": "code",
   "execution_count": 7,
   "id": "binary-grade",
   "metadata": {},
   "outputs": [],
   "source": [
    "p1.save()\n"
   ]
  },
  {
   "cell_type": "code",
   "execution_count": 8,
   "id": "characteristic-capitol",
   "metadata": {},
   "outputs": [],
   "source": [
    "p2 = Perosne(name=\"p2\")\n"
   ]
  },
  {
   "cell_type": "code",
   "execution_count": 9,
   "id": "administrative-proceeding",
   "metadata": {},
   "outputs": [],
   "source": [
    "p2.spouse=p1"
   ]
  },
  {
   "cell_type": "code",
   "execution_count": 10,
   "id": "polish-browser",
   "metadata": {},
   "outputs": [],
   "source": [
    "p2.save()"
   ]
  },
  {
   "cell_type": "code",
   "execution_count": 11,
   "id": "organized-polish",
   "metadata": {},
   "outputs": [
    {
     "data": {
      "text/plain": [
       "<Perosne: Perosne object (1)>"
      ]
     },
     "execution_count": 11,
     "metadata": {},
     "output_type": "execute_result"
    }
   ],
   "source": [
    "p2.spouse"
   ]
  },
  {
   "cell_type": "code",
   "execution_count": 13,
   "id": "liked-interstate",
   "metadata": {},
   "outputs": [
    {
     "data": {
      "text/plain": [
       "<Perosne: Perosne object (2)>"
      ]
     },
     "execution_count": 13,
     "metadata": {},
     "output_type": "execute_result"
    }
   ],
   "source": [
    "p1.perosne"
   ]
  },
  {
   "cell_type": "code",
   "execution_count": null,
   "id": "covered-marsh",
   "metadata": {},
   "outputs": [],
   "source": []
  }
 ],
 "metadata": {
  "kernelspec": {
   "display_name": "Django Shell-Plus",
   "language": "python",
   "name": "django_extensions"
  },
  "language_info": {
   "codemirror_mode": {
    "name": "ipython",
    "version": 3
   },
   "file_extension": ".py",
   "mimetype": "text/x-python",
   "name": "python",
   "nbconvert_exporter": "python",
   "pygments_lexer": "ipython3",
   "version": "3.9.2"
  }
 },
 "nbformat": 4,
 "nbformat_minor": 5
}
