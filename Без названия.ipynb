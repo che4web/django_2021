{
 "cells": [
  {
   "cell_type": "markdown",
   "id": "binary-armenia",
   "metadata": {},
   "source": [
    "# декораторы \n",
    "\n",
    "@some_foo\n",
    "def bar():\n",
    "    pass"
   ]
  },
  {
   "cell_type": "code",
   "execution_count": null,
   "id": "likely-baseline",
   "metadata": {},
   "outputs": [],
   "source": [
    "\n",
    "\n"
   ]
  },
  {
   "cell_type": "code",
   "execution_count": null,
   "id": "damaged-adobe",
   "metadata": {},
   "outputs": [],
   "source": []
  },
  {
   "cell_type": "code",
   "execution_count": 36,
   "id": "tight-entertainment",
   "metadata": {},
   "outputs": [],
   "source": [
    "def add(a,b):\n",
    "    print(\"===in add===\")\n",
    "    return a+b\n",
    "def prod(a,b):\n",
    "    print(\"===in prod===\")\n",
    "    return a*b"
   ]
  },
  {
   "cell_type": "code",
   "execution_count": 37,
   "id": "hazardous-discussion",
   "metadata": {},
   "outputs": [],
   "source": [
    "def text_wrap(f):\n",
    "    def wraper(a,b):\n",
    "        print(\"Начало операции\")\n",
    "        c = f(a,b)\n",
    "        print(\"Успех sum=\",c ) \n",
    "    return wraper \n"
   ]
  },
  {
   "cell_type": "code",
   "execution_count": 44,
   "id": "executive-statement",
   "metadata": {},
   "outputs": [],
   "source": [
    "@text_wrap\n",
    "def div(a,b):\n",
    "    return a/b"
   ]
  },
  {
   "cell_type": "code",
   "execution_count": 45,
   "id": "wooden-transfer",
   "metadata": {},
   "outputs": [
    {
     "name": "stdout",
     "output_type": "stream",
     "text": [
      "Начало операции\n",
      "Успех sum= 5.0\n"
     ]
    }
   ],
   "source": [
    "div(10,2)"
   ]
  },
  {
   "cell_type": "code",
   "execution_count": 46,
   "id": "useful-visit",
   "metadata": {},
   "outputs": [],
   "source": [
    "def div(a,b):\n",
    "    return a/b\n",
    "div =text_wrap(div)"
   ]
  },
  {
   "cell_type": "code",
   "execution_count": 47,
   "id": "analyzed-ideal",
   "metadata": {},
   "outputs": [
    {
     "name": "stdout",
     "output_type": "stream",
     "text": [
      "Начало операции\n",
      "===in add===\n",
      "Успех sum= 3\n"
     ]
    }
   ],
   "source": [
    "add(1,2)"
   ]
  },
  {
   "cell_type": "code",
   "execution_count": 40,
   "id": "published-danger",
   "metadata": {},
   "outputs": [],
   "source": [
    "wrap_prod =text_wrap(prod)"
   ]
  },
  {
   "cell_type": "code",
   "execution_count": 43,
   "id": "official-concept",
   "metadata": {},
   "outputs": [
    {
     "name": "stdout",
     "output_type": "stream",
     "text": [
      "Начало операции\n",
      "===in prod===\n",
      "Успех sum= 4\n"
     ]
    }
   ],
   "source": [
    "wrap_prod(2,2)"
   ]
  },
  {
   "cell_type": "code",
   "execution_count": 15,
   "id": "decimal-stamp",
   "metadata": {},
   "outputs": [],
   "source": [
    "some2 = bar(2)"
   ]
  },
  {
   "cell_type": "code",
   "execution_count": 16,
   "id": "auburn-rescue",
   "metadata": {},
   "outputs": [
    {
     "data": {
      "text/plain": [
       "12"
      ]
     },
     "execution_count": 16,
     "metadata": {},
     "output_type": "execute_result"
    }
   ],
   "source": [
    "some2"
   ]
  },
  {
   "cell_type": "code",
   "execution_count": null,
   "id": "accessory-contemporary",
   "metadata": {},
   "outputs": [],
   "source": []
  }
 ],
 "metadata": {
  "kernelspec": {
   "display_name": "Python 3",
   "language": "python",
   "name": "python3"
  },
  "language_info": {
   "codemirror_mode": {
    "name": "ipython",
    "version": 3
   },
   "file_extension": ".py",
   "mimetype": "text/x-python",
   "name": "python",
   "nbconvert_exporter": "python",
   "pygments_lexer": "ipython3",
   "version": "3.9.2"
  }
 },
 "nbformat": 4,
 "nbformat_minor": 5
}
